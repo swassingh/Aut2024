{
 "cells": [
  {
   "cell_type": "code",
   "execution_count": 1,
   "metadata": {},
   "outputs": [
    {
     "name": "stderr",
     "output_type": "stream",
     "text": [
      "C:\\Users\\Fortu\\AppData\\Local\\Temp\\ipykernel_26016\\1742394333.py:2: DeprecationWarning: Call to deprecated function (or staticmethod) started. (use pt.java.started() instead) -- Deprecated since version 0.11.0.\n",
      "  if not pt.started():\n",
      "Java started and loaded: pyterrier.java, pyterrier.terrier.java [version=5.10 (build: craigm 2024-08-22 17:33), helper_version=0.0.8]\n",
      "C:\\Users\\Fortu\\AppData\\Local\\Temp\\ipykernel_26016\\1742394333.py:3: DeprecationWarning: Call to deprecated method pt.init(). Deprecated since version 0.11.0.\n",
      "java is now started automatically with default settings. To force initialisation early, run:\n",
      "pt.java.init() # optional, forces java initialisation\n",
      "  pt.init()\n"
     ]
    }
   ],
   "source": [
    "import pyterrier as pt\n",
    "if not pt.started():\n",
    "  pt.init()"
   ]
  },
  {
   "cell_type": "code",
   "execution_count": 3,
   "metadata": {},
   "outputs": [
    {
     "name": "stderr",
     "output_type": "stream",
     "text": [
      "3files [00:01,  1.47files/s]                    "
     ]
    },
    {
     "name": "stdout",
     "output_type": "stream",
     "text": [
      "11:46:41.582 [main] ERROR org.terrier.structures.indexing.Indexer -- Could not rename index\n",
      "java.io.IOException: Rename of index structure file 'c:/Users/Fortu/Downloads/Aut2024/Info 376/nyt_index/data_1.direct.bf' (exists) to 'c:/Users/Fortu/Downloads/Aut2024/Info 376/nyt_index/data.direct.bf' (exists) failed - likely that source file is still open. Possible indexing bug?\n",
      "\tat org.terrier.structures.IndexUtil.renameIndex(IndexUtil.java:379)\n",
      "\tat org.terrier.structures.indexing.Indexer.index(Indexer.java:388)\n"
     ]
    },
    {
     "name": "stderr",
     "output_type": "stream",
     "text": [
      "3files [00:04,  1.36s/files]\n"
     ]
    },
    {
     "name": "stdout",
     "output_type": "stream",
     "text": [
      "Number of documents: 722\n",
      "Number of terms: 19891\n",
      "Number of postings: 215372\n",
      "Number of fields: 0\n",
      "Number of tokens: 357606\n",
      "Field names: []\n",
      "Positions:   false\n",
      "\n"
     ]
    }
   ],
   "source": [
    "files = pt.io.find_files('./nyt/nyt')\n",
    "indexer = pt.TRECCollectionIndexer('c:/Users/Fortu/Downloads/Aut2024/Info 376/nyt_index',\n",
    "                                    verbose=True, blocks=False, meta_tags={'docno':'docno'},\n",
    "                                    overwrite=True)\n",
    "indexref = indexer.index(files)\n",
    "index = pt.IndexFactory.of(indexref)\n",
    "print(index.getCollectionStatistics().toString())"
   ]
  },
  {
   "cell_type": "code",
   "execution_count": 11,
   "metadata": {},
   "outputs": [
    {
     "data": {
      "text/html": [
       "<div>\n",
       "<style scoped>\n",
       "    .dataframe tbody tr th:only-of-type {\n",
       "        vertical-align: middle;\n",
       "    }\n",
       "\n",
       "    .dataframe tbody tr th {\n",
       "        vertical-align: top;\n",
       "    }\n",
       "\n",
       "    .dataframe thead th {\n",
       "        text-align: right;\n",
       "    }\n",
       "</style>\n",
       "<table border=\"1\" class=\"dataframe\">\n",
       "  <thead>\n",
       "    <tr style=\"text-align: right;\">\n",
       "      <th></th>\n",
       "      <th>qid</th>\n",
       "      <th>query</th>\n",
       "    </tr>\n",
       "  </thead>\n",
       "  <tbody>\n",
       "    <tr>\n",
       "      <th>0</th>\n",
       "      <td>q1</td>\n",
       "      <td>huskies football</td>\n",
       "    </tr>\n",
       "    <tr>\n",
       "      <th>1</th>\n",
       "      <td>q2</td>\n",
       "      <td>bush kerry</td>\n",
       "    </tr>\n",
       "  </tbody>\n",
       "</table>\n",
       "</div>"
      ],
      "text/plain": [
       "  qid             query\n",
       "0  q1  huskies football\n",
       "1  q2        bush kerry"
      ]
     },
     "execution_count": 11,
     "metadata": {},
     "output_type": "execute_result"
    }
   ],
   "source": [
    "import pandas as pd\n",
    "queries = pd.DataFrame([[\"q1\", \"huskies football\"], [\"q2\", \"bush kerry\"]], columns=[\"qid\",\"query\"])\n",
    "queries"
   ]
  },
  {
   "cell_type": "code",
   "execution_count": null,
   "metadata": {},
   "outputs": [
    {
     "name": "stderr",
     "output_type": "stream",
     "text": [
      "C:\\Users\\Fortu\\AppData\\Local\\Temp\\ipykernel_26016\\3634909428.py:2: DeprecationWarning: Call to deprecated class BatchRetrieve. (use pt.terrier.Retriever() instead) -- Deprecated since version 0.11.0.\n",
      "  tf_idf = pt.BatchRetrieve(index, wmodel=\"TF_IDF\")\n",
      "C:\\Users\\Fortu\\AppData\\Local\\Temp\\ipykernel_26016\\3634909428.py:3: DeprecationWarning: Call to deprecated class BatchRetrieve. (use pt.terrier.Retriever() instead) -- Deprecated since version 0.11.0.\n",
      "  bm25 = pt.BatchRetrieve(index, wmodel=\"BM25\")\n",
      "C:\\Users\\Fortu\\AppData\\Local\\Temp\\ipykernel_26016\\3634909428.py:4: DeprecationWarning: Call to deprecated class BatchRetrieve. (use pt.terrier.Retriever() instead) -- Deprecated since version 0.11.0.\n",
      "  Hiemstra = pt.BatchRetrieve(index, wmodel=\"Hiemstra_LM\")\n"
     ]
    },
    {
     "data": {
      "text/html": [
       "<div>\n",
       "<style scoped>\n",
       "    .dataframe tbody tr th:only-of-type {\n",
       "        vertical-align: middle;\n",
       "    }\n",
       "\n",
       "    .dataframe tbody tr th {\n",
       "        vertical-align: top;\n",
       "    }\n",
       "\n",
       "    .dataframe thead th {\n",
       "        text-align: right;\n",
       "    }\n",
       "</style>\n",
       "<table border=\"1\" class=\"dataframe\">\n",
       "  <thead>\n",
       "    <tr style=\"text-align: right;\">\n",
       "      <th></th>\n",
       "      <th>qid</th>\n",
       "      <th>docid</th>\n",
       "      <th>docno</th>\n",
       "      <th>rank</th>\n",
       "      <th>score</th>\n",
       "      <th>query</th>\n",
       "    </tr>\n",
       "  </thead>\n",
       "  <tbody>\n",
       "    <tr>\n",
       "      <th>0</th>\n",
       "      <td>q1</td>\n",
       "      <td>88</td>\n",
       "      <td>NYT20000130.0100</td>\n",
       "      <td>0</td>\n",
       "      <td>8.055148</td>\n",
       "      <td>huskies football</td>\n",
       "    </tr>\n",
       "    <tr>\n",
       "      <th>1</th>\n",
       "      <td>q1</td>\n",
       "      <td>217</td>\n",
       "      <td>NYT20000131.0026</td>\n",
       "      <td>1</td>\n",
       "      <td>4.961224</td>\n",
       "      <td>huskies football</td>\n",
       "    </tr>\n",
       "    <tr>\n",
       "      <th>2</th>\n",
       "      <td>q1</td>\n",
       "      <td>21</td>\n",
       "      <td>NYT20000130.0022</td>\n",
       "      <td>2</td>\n",
       "      <td>3.492098</td>\n",
       "      <td>huskies football</td>\n",
       "    </tr>\n",
       "    <tr>\n",
       "      <th>3</th>\n",
       "      <td>q1</td>\n",
       "      <td>18</td>\n",
       "      <td>NYT20000130.0019</td>\n",
       "      <td>3</td>\n",
       "      <td>3.483695</td>\n",
       "      <td>huskies football</td>\n",
       "    </tr>\n",
       "    <tr>\n",
       "      <th>4</th>\n",
       "      <td>q1</td>\n",
       "      <td>19</td>\n",
       "      <td>NYT20000130.0020</td>\n",
       "      <td>4</td>\n",
       "      <td>3.483695</td>\n",
       "      <td>huskies football</td>\n",
       "    </tr>\n",
       "    <tr>\n",
       "      <th>...</th>\n",
       "      <td>...</td>\n",
       "      <td>...</td>\n",
       "      <td>...</td>\n",
       "      <td>...</td>\n",
       "      <td>...</td>\n",
       "      <td>...</td>\n",
       "    </tr>\n",
       "    <tr>\n",
       "      <th>191</th>\n",
       "      <td>q2</td>\n",
       "      <td>324</td>\n",
       "      <td>NYT20000131.0139</td>\n",
       "      <td>116</td>\n",
       "      <td>1.198013</td>\n",
       "      <td>bush kerry</td>\n",
       "    </tr>\n",
       "    <tr>\n",
       "      <th>192</th>\n",
       "      <td>q2</td>\n",
       "      <td>317</td>\n",
       "      <td>NYT20000131.0132</td>\n",
       "      <td>117</td>\n",
       "      <td>1.185011</td>\n",
       "      <td>bush kerry</td>\n",
       "    </tr>\n",
       "    <tr>\n",
       "      <th>193</th>\n",
       "      <td>q2</td>\n",
       "      <td>485</td>\n",
       "      <td>NYT20000131.0308</td>\n",
       "      <td>118</td>\n",
       "      <td>1.108579</td>\n",
       "      <td>bush kerry</td>\n",
       "    </tr>\n",
       "    <tr>\n",
       "      <th>194</th>\n",
       "      <td>q2</td>\n",
       "      <td>33</td>\n",
       "      <td>NYT20000130.0035</td>\n",
       "      <td>119</td>\n",
       "      <td>0.911068</td>\n",
       "      <td>bush kerry</td>\n",
       "    </tr>\n",
       "    <tr>\n",
       "      <th>195</th>\n",
       "      <td>q2</td>\n",
       "      <td>517</td>\n",
       "      <td>NYT20000131.0342</td>\n",
       "      <td>120</td>\n",
       "      <td>0.908838</td>\n",
       "      <td>bush kerry</td>\n",
       "    </tr>\n",
       "  </tbody>\n",
       "</table>\n",
       "<p>196 rows × 6 columns</p>\n",
       "</div>"
      ],
      "text/plain": [
       "    qid  docid             docno  rank     score             query\n",
       "0    q1     88  NYT20000130.0100     0  8.055148  huskies football\n",
       "1    q1    217  NYT20000131.0026     1  4.961224  huskies football\n",
       "2    q1     21  NYT20000130.0022     2  3.492098  huskies football\n",
       "3    q1     18  NYT20000130.0019     3  3.483695  huskies football\n",
       "4    q1     19  NYT20000130.0020     4  3.483695  huskies football\n",
       "..   ..    ...               ...   ...       ...               ...\n",
       "191  q2    324  NYT20000131.0139   116  1.198013        bush kerry\n",
       "192  q2    317  NYT20000131.0132   117  1.185011        bush kerry\n",
       "193  q2    485  NYT20000131.0308   118  1.108579        bush kerry\n",
       "194  q2     33  NYT20000130.0035   119  0.911068        bush kerry\n",
       "195  q2    517  NYT20000131.0342   120  0.908838        bush kerry\n",
       "\n",
       "[196 rows x 6 columns]"
      ]
     },
     "execution_count": 14,
     "metadata": {},
     "output_type": "execute_result"
    }
   ],
   "source": [
    "index = pt.IndexFactory.of(\"c:/Users/Fortu/Downloads/Aut2024/Info 376/nyt_index/data.properties\")\n",
    "tf_idf = pt.BatchRetrieve(index, wmodel=\"TF_IDF\")\n",
    "bm25 = pt.BatchRetrieve(index, wmodel=\"BM25\")\n",
    "Hiemstra = pt.BatchRetrieve(index, wmodel=\"Hiemstra_LM\")\n",
    "\n",
    "# retrieve documents for each query\n",
    "tf_idf.transform(queries)"
   ]
  },
  {
   "cell_type": "code",
   "execution_count": 15,
   "metadata": {},
   "outputs": [
    {
     "data": {
      "text/html": [
       "<div>\n",
       "<style scoped>\n",
       "    .dataframe tbody tr th:only-of-type {\n",
       "        vertical-align: middle;\n",
       "    }\n",
       "\n",
       "    .dataframe tbody tr th {\n",
       "        vertical-align: top;\n",
       "    }\n",
       "\n",
       "    .dataframe thead th {\n",
       "        text-align: right;\n",
       "    }\n",
       "</style>\n",
       "<table border=\"1\" class=\"dataframe\">\n",
       "  <thead>\n",
       "    <tr style=\"text-align: right;\">\n",
       "      <th></th>\n",
       "      <th>qid</th>\n",
       "      <th>docno</th>\n",
       "      <th>label</th>\n",
       "    </tr>\n",
       "  </thead>\n",
       "  <tbody>\n",
       "    <tr>\n",
       "      <th>0</th>\n",
       "      <td>q1</td>\n",
       "      <td>NYT20000130.0100</td>\n",
       "      <td>1</td>\n",
       "    </tr>\n",
       "    <tr>\n",
       "      <th>1</th>\n",
       "      <td>q1</td>\n",
       "      <td>NYT20000130.0022</td>\n",
       "      <td>1</td>\n",
       "    </tr>\n",
       "    <tr>\n",
       "      <th>2</th>\n",
       "      <td>q2</td>\n",
       "      <td>NYT20000131.0413</td>\n",
       "      <td>1</td>\n",
       "    </tr>\n",
       "    <tr>\n",
       "      <th>3</th>\n",
       "      <td>q2</td>\n",
       "      <td>NYT20000131.0418</td>\n",
       "      <td>1</td>\n",
       "    </tr>\n",
       "  </tbody>\n",
       "</table>\n",
       "</div>"
      ],
      "text/plain": [
       "  qid             docno  label\n",
       "0  q1  NYT20000130.0100      1\n",
       "1  q1  NYT20000130.0022      1\n",
       "2  q2  NYT20000131.0413      1\n",
       "3  q2  NYT20000131.0418      1"
      ]
     },
     "execution_count": 15,
     "metadata": {},
     "output_type": "execute_result"
    }
   ],
   "source": [
    "qrels = pd.DataFrame([[\"q1\",\"NYT20000130.0100\",1],\n",
    "                     [\"q1\",\"NYT20000130.0022\",1],\n",
    "                     [\"q2\",\"NYT20000131.0413\",1],\n",
    "                     [\"q2\",\"NYT20000131.0418\",1]], columns=[\"qid\",\"docno\",\"label\"])\n",
    "\n",
    "# labelling the relevant documents by naming them in qrels\n",
    "\n",
    "qrels"
   ]
  },
  {
   "cell_type": "code",
   "execution_count": 17,
   "metadata": {},
   "outputs": [
    {
     "data": {
      "text/html": [
       "<div>\n",
       "<style scoped>\n",
       "    .dataframe tbody tr th:only-of-type {\n",
       "        vertical-align: middle;\n",
       "    }\n",
       "\n",
       "    .dataframe tbody tr th {\n",
       "        vertical-align: top;\n",
       "    }\n",
       "\n",
       "    .dataframe thead th {\n",
       "        text-align: right;\n",
       "    }\n",
       "</style>\n",
       "<table border=\"1\" class=\"dataframe\">\n",
       "  <thead>\n",
       "    <tr style=\"text-align: right;\">\n",
       "      <th></th>\n",
       "      <th>name</th>\n",
       "      <th>map</th>\n",
       "      <th>Rprec</th>\n",
       "      <th>recip_rank</th>\n",
       "    </tr>\n",
       "  </thead>\n",
       "  <tbody>\n",
       "    <tr>\n",
       "      <th>0</th>\n",
       "      <td>TerrierRetr(TF_IDF)</td>\n",
       "      <td>0.916667</td>\n",
       "      <td>0.75</td>\n",
       "      <td>1.0</td>\n",
       "    </tr>\n",
       "    <tr>\n",
       "      <th>1</th>\n",
       "      <td>TerrierRetr(BM25)</td>\n",
       "      <td>0.916667</td>\n",
       "      <td>0.75</td>\n",
       "      <td>1.0</td>\n",
       "    </tr>\n",
       "    <tr>\n",
       "      <th>2</th>\n",
       "      <td>TerrierRetr(Hiemstra_LM)</td>\n",
       "      <td>0.850000</td>\n",
       "      <td>0.75</td>\n",
       "      <td>1.0</td>\n",
       "    </tr>\n",
       "  </tbody>\n",
       "</table>\n",
       "</div>"
      ],
      "text/plain": [
       "                       name       map  Rprec  recip_rank\n",
       "0       TerrierRetr(TF_IDF)  0.916667   0.75         1.0\n",
       "1         TerrierRetr(BM25)  0.916667   0.75         1.0\n",
       "2  TerrierRetr(Hiemstra_LM)  0.850000   0.75         1.0"
      ]
     },
     "execution_count": 17,
     "metadata": {},
     "output_type": "execute_result"
    }
   ],
   "source": [
    "# Calculate the mean average precision, R-precision, and reciprocal rank for each query\n",
    "# using the tf_idf, bm25, and Hiemstra retrieval models\n",
    "\n",
    "# MAP = mean average precision = average of the precision at each relevant document\n",
    "# R-precision = precision at the Rth relevant document (R = number of relevant documents)\n",
    "# Reciprocal Rank = 1/rank of the first relevant document\n",
    "\n",
    "# map -> shows the average of the precision at each relevant document\n",
    "# rprec -> shows the precision after R (number of relevant documents) has been retrieved\n",
    "# recip_rank -> shows that relevant document is at the top of the list (shown by 1)\n",
    "\n",
    "pt.Experiment (\n",
    "    [tf_idf,bm25,Hiemstra],\n",
    "    queries,\n",
    "    qrels,\n",
    "    eval_metrics=[\"map\",\"Rprec\",\"recip_rank\"]\n",
    ")"
   ]
  },
  {
   "cell_type": "code",
   "execution_count": 23,
   "metadata": {},
   "outputs": [
    {
     "name": "stdout",
     "output_type": "stream",
     "text": [
      "Number of documents: 11429\n",
      "Number of terms: 7756\n",
      "Number of postings: 224573\n",
      "Number of fields: 0\n",
      "Number of tokens: 271581\n",
      "Field names: []\n",
      "Positions:   false\n",
      "\n"
     ]
    }
   ],
   "source": [
    "dataset = pt.get_dataset(\"vaswani\")\n",
    "indexer = pt.TRECCollectionIndexer(\"c:/Users/Fortu/Downloads/Aut2024/Info 376/vaswani_index\")\n",
    "indexref = indexer.index(dataset.get_corpus())\n",
    "index = pt.IndexFactory.of(indexref)\n",
    "print(index.getCollectionStatistics().toString())"
   ]
  },
  {
   "cell_type": "code",
   "execution_count": 24,
   "metadata": {},
   "outputs": [
    {
     "data": {
      "text/html": [
       "<div>\n",
       "<style scoped>\n",
       "    .dataframe tbody tr th:only-of-type {\n",
       "        vertical-align: middle;\n",
       "    }\n",
       "\n",
       "    .dataframe tbody tr th {\n",
       "        vertical-align: top;\n",
       "    }\n",
       "\n",
       "    .dataframe thead th {\n",
       "        text-align: right;\n",
       "    }\n",
       "</style>\n",
       "<table border=\"1\" class=\"dataframe\">\n",
       "  <thead>\n",
       "    <tr style=\"text-align: right;\">\n",
       "      <th></th>\n",
       "      <th>qid</th>\n",
       "      <th>query</th>\n",
       "    </tr>\n",
       "  </thead>\n",
       "  <tbody>\n",
       "    <tr>\n",
       "      <th>0</th>\n",
       "      <td>4</td>\n",
       "      <td>system of data coding for information transfer</td>\n",
       "    </tr>\n",
       "    <tr>\n",
       "      <th>1</th>\n",
       "      <td>6</td>\n",
       "      <td>number representation in binary machines</td>\n",
       "    </tr>\n",
       "  </tbody>\n",
       "</table>\n",
       "</div>"
      ],
      "text/plain": [
       "  qid                                           query\n",
       "0   4  system of data coding for information transfer\n",
       "1   6        number representation in binary machines"
      ]
     },
     "execution_count": 24,
     "metadata": {},
     "output_type": "execute_result"
    }
   ],
   "source": [
    "queries = pd.DataFrame([[\"4\", \"system of data coding for information transfer\"],\n",
    "                        [\"6\",\"number representation in binary machines\"]],columns=[\"qid\",\"query\"])\n",
    "queries"
   ]
  },
  {
   "cell_type": "code",
   "execution_count": 25,
   "metadata": {},
   "outputs": [
    {
     "name": "stdout",
     "output_type": "stream",
     "text": [
      "Downloading vaswani qrels to C:\\Users\\Fortu/.pyterrier\\corpora\\vaswani\\qrels\n"
     ]
    },
    {
     "name": "stderr",
     "output_type": "stream",
     "text": [
      "qrels: 24.3kiB [00:00, 12.4MiB/s]                  "
     ]
    },
    {
     "name": "stdout",
     "output_type": "stream",
     "text": [
      "     qid  docno  label\n",
      "0      1   1239      1\n",
      "1      1   1502      1\n",
      "2      1   4462      1\n",
      "3      1   4569      1\n",
      "4      1   5472      1\n",
      "...   ..    ...    ...\n",
      "2078  93   9875      1\n",
      "2079  93   9956      1\n",
      "2080  93  10497      1\n",
      "2081  93  11191      1\n",
      "2082  93  11318      1\n",
      "\n",
      "[2083 rows x 3 columns]\n"
     ]
    },
    {
     "name": "stderr",
     "output_type": "stream",
     "text": [
      "\n"
     ]
    }
   ],
   "source": [
    "print(dataset.get_qrels())"
   ]
  },
  {
   "cell_type": "code",
   "execution_count": 26,
   "metadata": {},
   "outputs": [
    {
     "name": "stderr",
     "output_type": "stream",
     "text": [
      "C:\\Users\\Fortu\\AppData\\Local\\Temp\\ipykernel_26016\\1887074501.py:1: DeprecationWarning: Call to deprecated class BatchRetrieve. (use pt.terrier.Retriever() instead) -- Deprecated since version 0.11.0.\n",
      "  tf_idf = pt.BatchRetrieve(index, wmodel=\"TF_IDF\")\n",
      "C:\\Users\\Fortu\\AppData\\Local\\Temp\\ipykernel_26016\\1887074501.py:2: DeprecationWarning: Call to deprecated class BatchRetrieve. (use pt.terrier.Retriever() instead) -- Deprecated since version 0.11.0.\n",
      "  bm25 = pt.BatchRetrieve(index, wmodel=\"BM25\")\n",
      "C:\\Users\\Fortu\\AppData\\Local\\Temp\\ipykernel_26016\\1887074501.py:3: DeprecationWarning: Call to deprecated class BatchRetrieve. (use pt.terrier.Retriever() instead) -- Deprecated since version 0.11.0.\n",
      "  Hiemstra = pt.BatchRetrieve(index, wmodel=\"Hiemstra_LM\")\n"
     ]
    }
   ],
   "source": [
    "tf_idf = pt.BatchRetrieve(index, wmodel=\"TF_IDF\")\n",
    "bm25 = pt.BatchRetrieve(index, wmodel=\"BM25\")\n",
    "Hiemstra = pt.BatchRetrieve(index, wmodel=\"Hiemstra_LM\")"
   ]
  },
  {
   "cell_type": "code",
   "execution_count": 30,
   "metadata": {},
   "outputs": [
    {
     "data": {
      "text/html": [
       "<div>\n",
       "<style scoped>\n",
       "    .dataframe tbody tr th:only-of-type {\n",
       "        vertical-align: middle;\n",
       "    }\n",
       "\n",
       "    .dataframe tbody tr th {\n",
       "        vertical-align: top;\n",
       "    }\n",
       "\n",
       "    .dataframe thead th {\n",
       "        text-align: right;\n",
       "    }\n",
       "</style>\n",
       "<table border=\"1\" class=\"dataframe\">\n",
       "  <thead>\n",
       "    <tr style=\"text-align: right;\">\n",
       "      <th></th>\n",
       "      <th>name</th>\n",
       "      <th>map</th>\n",
       "      <th>Rprec</th>\n",
       "      <th>recip_rank</th>\n",
       "    </tr>\n",
       "  </thead>\n",
       "  <tbody>\n",
       "    <tr>\n",
       "      <th>0</th>\n",
       "      <td>TerrierRetr(TF_IDF)</td>\n",
       "      <td>0.368055</td>\n",
       "      <td>0.4</td>\n",
       "      <td>1.0</td>\n",
       "    </tr>\n",
       "    <tr>\n",
       "      <th>1</th>\n",
       "      <td>TerrierRetr(BM25)</td>\n",
       "      <td>0.363716</td>\n",
       "      <td>0.4</td>\n",
       "      <td>1.0</td>\n",
       "    </tr>\n",
       "    <tr>\n",
       "      <th>2</th>\n",
       "      <td>TerrierRetr(Hiemstra_LM)</td>\n",
       "      <td>0.395372</td>\n",
       "      <td>0.4</td>\n",
       "      <td>1.0</td>\n",
       "    </tr>\n",
       "  </tbody>\n",
       "</table>\n",
       "</div>"
      ],
      "text/plain": [
       "                       name       map  Rprec  recip_rank\n",
       "0       TerrierRetr(TF_IDF)  0.368055    0.4         1.0\n",
       "1         TerrierRetr(BM25)  0.363716    0.4         1.0\n",
       "2  TerrierRetr(Hiemstra_LM)  0.395372    0.4         1.0"
      ]
     },
     "execution_count": 30,
     "metadata": {},
     "output_type": "execute_result"
    }
   ],
   "source": [
    "# Hiemstra did better because it uses a language model approach.\n",
    "# This approach estimates the probability of a document generating a query,\n",
    "# which can be more effective for certain types of queries and collections.\n",
    "# Specifically, it can handle term dependencies and variations better than\n",
    "# traditional models like TF-IDF and BM25.\n",
    "\n",
    "pt.Experiment (\n",
    "  [tf_idf,bm25,Hiemstra],\n",
    "  queries,\n",
    "  dataset.get_qrels(),\n",
    "  eval_metrics=[\"map\",\"Rprec\",\"recip_rank\"]\n",
    ")"
   ]
  },
  {
   "cell_type": "code",
   "execution_count": null,
   "metadata": {},
   "outputs": [],
   "source": []
  }
 ],
 "metadata": {
  "kernelspec": {
   "display_name": "Python 3",
   "language": "python",
   "name": "python3"
  },
  "language_info": {
   "codemirror_mode": {
    "name": "ipython",
    "version": 3
   },
   "file_extension": ".py",
   "mimetype": "text/x-python",
   "name": "python",
   "nbconvert_exporter": "python",
   "pygments_lexer": "ipython3",
   "version": "3.12.7"
  }
 },
 "nbformat": 4,
 "nbformat_minor": 2
}
