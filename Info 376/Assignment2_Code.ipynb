{
 "cells": [
  {
   "cell_type": "code",
   "execution_count": 6,
   "metadata": {},
   "outputs": [
    {
     "name": "stdout",
     "output_type": "stream",
     "text": [
      "0.11.0\n"
     ]
    }
   ],
   "source": [
    "import pyterrier as pt\n",
    "import nltk\n",
    "from nltk.corpus import stopwords\n",
    "from nltk.stem import PorterStemmer\n",
    "\n",
    "\n",
    "\n",
    "print(pt.__version__)"
   ]
  },
  {
   "cell_type": "code",
   "execution_count": 3,
   "metadata": {},
   "outputs": [],
   "source": [
    "# Text given in assignment\n",
    "text = (\"It was the best of times, it was the worst of times, it was the age of wisdom, it was the age of foolishness, it was the epoch of belief, it was the epoch of incredulity, it was the season of Light, it was the season of Darkness, it was the spring of hope, it was the winter of despair\")"
   ]
  },
  {
   "cell_type": "code",
   "execution_count": 7,
   "metadata": {},
   "outputs": [
    {
     "name": "stdout",
     "output_type": "stream",
     "text": [
      "['it', 'time', ',', 'worst', 'time', ',', 'age', 'wisdom', ',', 'age', 'foolish', ',', 'epoch', 'belief', ',', 'epoch', 'incredul', ',', 'season', 'light', ',', 'season', 'dark', ',', 'spring', 'hope', ',', 'winter', 'despair']\n"
     ]
    }
   ],
   "source": [
    "# Tokenization\n",
    "tokens = nltk.word_tokenize(text)\n",
    "\n",
    "# Stopwords removal\n",
    "filtered_tokens = [word for word in tokens if not word in stopwords.words()]\n",
    "\n",
    "# Stemming\n",
    "ps = PorterStemmer()\n",
    "stemmed_tokens = [ps.stem(word) for word in filtered_tokens]\n",
    "\n",
    "# Representing as a variable/vector/frame\n",
    "print(stemmed_tokens)"
   ]
  },
  {
   "cell_type": "code",
   "execution_count": 25,
   "metadata": {},
   "outputs": [],
   "source": [
    "# Function to perform exact match search\n",
    "def exact_match_search(text, search_term):\n",
    "  # Tokenize the text (so that I can have a list to search through like on Monday)\n",
    "  tokens = nltk.word_tokenize(text)\n",
    "\n",
    "  # Check if the search term exists in the processed text\n",
    "  if search_term in tokens:\n",
    "    return True\n",
    "  else:\n",
    "    return False\n"
   ]
  },
  {
   "cell_type": "code",
   "execution_count": 26,
   "metadata": {},
   "outputs": [
    {
     "name": "stdout",
     "output_type": "stream",
     "text": [
      "Exact match for 'incredulity': True\n"
     ]
    }
   ],
   "source": [
    "search_term = \"incredulity\"\n",
    "is_match = exact_match_search(text, search_term)\n",
    "print(f\"Exact match for '{search_term}': {is_match}\")"
   ]
  },
  {
   "cell_type": "code",
   "execution_count": 31,
   "metadata": {},
   "outputs": [
    {
     "name": "stdout",
     "output_type": "stream",
     "text": [
      "Exact match for 'incredulity': True\n"
     ]
    }
   ],
   "source": [
    "# Function to perform exact match search\n",
    "def exact_match_search(tokens, search_term):\n",
    "  # Check if the search term exists in the processed text\n",
    "  stem_search = ps.stem(search_term)\n",
    "  return stem_search in tokens\n",
    "\n",
    "# Search for the query \"incredulity\"\n",
    "search_term = \"incredulity\"\n",
    "is_match = exact_match_search(stemmed_tokens, search_term)\n",
    "print(f\"Exact match for '{search_term}': {is_match}\")"
   ]
  },
  {
   "cell_type": "code",
   "execution_count": null,
   "metadata": {},
   "outputs": [],
   "source": []
  }
 ],
 "metadata": {
  "kernelspec": {
   "display_name": "Python 3",
   "language": "python",
   "name": "python3"
  },
  "language_info": {
   "codemirror_mode": {
    "name": "ipython",
    "version": 3
   },
   "file_extension": ".py",
   "mimetype": "text/x-python",
   "name": "python",
   "nbconvert_exporter": "python",
   "pygments_lexer": "ipython3",
   "version": "3.12.7"
  }
 },
 "nbformat": 4,
 "nbformat_minor": 2
}
