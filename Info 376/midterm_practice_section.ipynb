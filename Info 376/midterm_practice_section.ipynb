{
 "cells": [
  {
   "cell_type": "markdown",
   "metadata": {},
   "source": [
    "# Mid-Term Practice Portion"
   ]
  },
  {
   "cell_type": "markdown",
   "metadata": {},
   "source": [
    "## Problem-1: User interaction with an IR system"
   ]
  },
  {
   "cell_type": "markdown",
   "metadata": {},
   "source": [
    "Pick a site with a good number of text, html, or pdf documents. Crawl it using wget, collecting 100-1000 documents. You may have to do some trial-and-error to get to this number. Make sure you don't keep your crawler running for too long. You will be penalized for having fewer than 100 or more than 1000 indexed documents. Report your wget command. [5 points]"
   ]
  },
  {
   "cell_type": "code",
   "execution_count": 45,
   "metadata": {},
   "outputs": [],
   "source": [
    "# This is my wget command that I used\n",
    "\n",
    "# wget -r paulgraham.com"
   ]
  },
  {
   "cell_type": "markdown",
   "metadata": {},
   "source": [
    "Index this collection using Pyterrier. Make sure you pick appropriate meta tags that may be useful for retrieval later. Report the index statistics. [5 points]"
   ]
  },
  {
   "cell_type": "code",
   "execution_count": 46,
   "metadata": {},
   "outputs": [
    {
     "name": "stderr",
     "output_type": "stream",
     "text": [
      "C:\\Users\\Fortu\\AppData\\Local\\Temp\\ipykernel_9280\\1742394333.py:2: DeprecationWarning: Call to deprecated function (or staticmethod) started. (use pt.java.started() instead) -- Deprecated since version 0.11.0.\n",
      "  if not pt.started():\n"
     ]
    }
   ],
   "source": [
    "import pyterrier as pt\n",
    "if not pt.started():\n",
    "  pt.init()"
   ]
  },
  {
   "cell_type": "code",
   "execution_count": 47,
   "metadata": {},
   "outputs": [
    {
     "name": "stdout",
     "output_type": "stream",
     "text": [
      "16:24:03.828 [main] ERROR org.terrier.structures.indexing.Indexer -- Could not rename index\n",
      "java.io.IOException: Rename of index structure file 'c:/Users/Fortu/Downloads/Aut2024/Info 376/midterm_practice/webcrawler_index/data_1.direct.bf' (exists) to 'c:/Users/Fortu/Downloads/Aut2024/Info 376/midterm_practice/webcrawler_index/data.direct.bf' (exists) failed - likely that source file is still open. Possible indexing bug?\n",
      "\tat org.terrier.structures.IndexUtil.renameIndex(IndexUtil.java:379)\n",
      "\tat org.terrier.structures.indexing.Indexer.index(Indexer.java:388)\n",
      "Number of documents: 384\n",
      "Number of terms: 12539\n",
      "Number of postings: 160977\n",
      "Number of fields: 0\n",
      "Number of tokens: 412945\n",
      "Field names: []\n",
      "Positions:   false\n",
      "\n"
     ]
    }
   ],
   "source": [
    "files = pt.io.find_files('c:/Users/Fortu/Downloads/Aut2024/Info 376/paulgraham.com')\n",
    "indexer = pt.FilesIndexer('c:/Users/Fortu/Downloads/Aut2024/Info 376/midterm_practice/webcrawler_index',\n",
    "                          verbose=True, blocks=False,\n",
    "                          meta={\"docno\":20,\"filename\":1024,\"title\":1024},meta_tags={\"title\":\"title\"},\n",
    "                          overwrite=True)\n",
    "indexref = indexer.index(files)\n",
    "index = pt.IndexFactory.of(indexref)\n",
    "print(index.getCollectionStatistics().toString())"
   ]
  },
  {
   "cell_type": "markdown",
   "metadata": {},
   "source": [
    "Create a client-side interface in PHP/HTML by making appropriate modifications to what was provided in the class. Make sure that in addition to the search box and button, it has some description of what the underlying collection is and offer some suggestions for what one could search for. [5 points]"
   ]
  },
  {
   "cell_type": "markdown",
   "metadata": {},
   "source": [
    "You can access the search interface using the following link: [Search Interface](http://is-searchrec.ischool.uw.edu/swas/search.php)\n",
    "\n",
    "(http://is-searchrec.ischool.uw.edu/swas/search.php)"
   ]
  },
  {
   "cell_type": "code",
   "execution_count": 48,
   "metadata": {},
   "outputs": [
    {
     "data": {
      "text/html": [
       "<div>\n",
       "<style scoped>\n",
       "    .dataframe tbody tr th:only-of-type {\n",
       "        vertical-align: middle;\n",
       "    }\n",
       "\n",
       "    .dataframe tbody tr th {\n",
       "        vertical-align: top;\n",
       "    }\n",
       "\n",
       "    .dataframe thead th {\n",
       "        text-align: right;\n",
       "    }\n",
       "</style>\n",
       "<table border=\"1\" class=\"dataframe\">\n",
       "  <thead>\n",
       "    <tr style=\"text-align: right;\">\n",
       "      <th></th>\n",
       "      <th>qid</th>\n",
       "      <th>query</th>\n",
       "    </tr>\n",
       "  </thead>\n",
       "  <tbody>\n",
       "    <tr>\n",
       "      <th>0</th>\n",
       "      <td>q1</td>\n",
       "      <td>addiction</td>\n",
       "    </tr>\n",
       "    <tr>\n",
       "      <th>1</th>\n",
       "      <td>q2</td>\n",
       "      <td>life</td>\n",
       "    </tr>\n",
       "    <tr>\n",
       "      <th>2</th>\n",
       "      <td>q3</td>\n",
       "      <td>age</td>\n",
       "    </tr>\n",
       "    <tr>\n",
       "      <th>3</th>\n",
       "      <td>q4</td>\n",
       "      <td>USA</td>\n",
       "    </tr>\n",
       "  </tbody>\n",
       "</table>\n",
       "</div>"
      ],
      "text/plain": [
       "  qid      query\n",
       "0  q1  addiction\n",
       "1  q2       life\n",
       "2  q3        age\n",
       "3  q4        USA"
      ]
     },
     "execution_count": 48,
     "metadata": {},
     "output_type": "execute_result"
    }
   ],
   "source": [
    "import pandas as pd\n",
    "queries = pd.DataFrame([[\"q1\",\"addiction\"], [\"q2\",\"life\"], [\"q3\", \"age\"], [\"q4\", \"USA\"]], columns=[\"qid\",\"query\"])\n",
    "queries"
   ]
  },
  {
   "cell_type": "code",
   "execution_count": 49,
   "metadata": {},
   "outputs": [
    {
     "name": "stderr",
     "output_type": "stream",
     "text": [
      "C:\\Users\\Fortu\\AppData\\Local\\Temp\\ipykernel_9280\\1970710156.py:2: DeprecationWarning: Call to deprecated class BatchRetrieve. (use pt.terrier.Retriever() instead) -- Deprecated since version 0.11.0.\n",
      "  BM = pt.BatchRetrieve(index, wmodel=\"BM25\")\n"
     ]
    },
    {
     "data": {
      "text/html": [
       "<div>\n",
       "<style scoped>\n",
       "    .dataframe tbody tr th:only-of-type {\n",
       "        vertical-align: middle;\n",
       "    }\n",
       "\n",
       "    .dataframe tbody tr th {\n",
       "        vertical-align: top;\n",
       "    }\n",
       "\n",
       "    .dataframe thead th {\n",
       "        text-align: right;\n",
       "    }\n",
       "</style>\n",
       "<table border=\"1\" class=\"dataframe\">\n",
       "  <thead>\n",
       "    <tr style=\"text-align: right;\">\n",
       "      <th></th>\n",
       "      <th>qid</th>\n",
       "      <th>docid</th>\n",
       "      <th>docno</th>\n",
       "      <th>rank</th>\n",
       "      <th>score</th>\n",
       "      <th>query</th>\n",
       "    </tr>\n",
       "  </thead>\n",
       "  <tbody>\n",
       "    <tr>\n",
       "      <th>0</th>\n",
       "      <td>q1</td>\n",
       "      <td>15</td>\n",
       "      <td>d16</td>\n",
       "      <td>0</td>\n",
       "      <td>9.957912</td>\n",
       "      <td>addiction</td>\n",
       "    </tr>\n",
       "    <tr>\n",
       "      <th>1</th>\n",
       "      <td>q1</td>\n",
       "      <td>87</td>\n",
       "      <td>d88</td>\n",
       "      <td>1</td>\n",
       "      <td>8.445748</td>\n",
       "      <td>addiction</td>\n",
       "    </tr>\n",
       "    <tr>\n",
       "      <th>2</th>\n",
       "      <td>q1</td>\n",
       "      <td>176</td>\n",
       "      <td>d177</td>\n",
       "      <td>2</td>\n",
       "      <td>8.236193</td>\n",
       "      <td>addiction</td>\n",
       "    </tr>\n",
       "    <tr>\n",
       "      <th>3</th>\n",
       "      <td>q1</td>\n",
       "      <td>352</td>\n",
       "      <td>d353</td>\n",
       "      <td>3</td>\n",
       "      <td>8.205934</td>\n",
       "      <td>addiction</td>\n",
       "    </tr>\n",
       "    <tr>\n",
       "      <th>4</th>\n",
       "      <td>q1</td>\n",
       "      <td>133</td>\n",
       "      <td>d134</td>\n",
       "      <td>4</td>\n",
       "      <td>6.743001</td>\n",
       "      <td>addiction</td>\n",
       "    </tr>\n",
       "    <tr>\n",
       "      <th>...</th>\n",
       "      <td>...</td>\n",
       "      <td>...</td>\n",
       "      <td>...</td>\n",
       "      <td>...</td>\n",
       "      <td>...</td>\n",
       "      <td>...</td>\n",
       "    </tr>\n",
       "    <tr>\n",
       "      <th>180</th>\n",
       "      <td>q3</td>\n",
       "      <td>187</td>\n",
       "      <td>d188</td>\n",
       "      <td>59</td>\n",
       "      <td>1.338348</td>\n",
       "      <td>age</td>\n",
       "    </tr>\n",
       "    <tr>\n",
       "      <th>181</th>\n",
       "      <td>q3</td>\n",
       "      <td>316</td>\n",
       "      <td>d317</td>\n",
       "      <td>60</td>\n",
       "      <td>1.030054</td>\n",
       "      <td>age</td>\n",
       "    </tr>\n",
       "    <tr>\n",
       "      <th>182</th>\n",
       "      <td>q4</td>\n",
       "      <td>347</td>\n",
       "      <td>d348</td>\n",
       "      <td>0</td>\n",
       "      <td>10.398220</td>\n",
       "      <td>USA</td>\n",
       "    </tr>\n",
       "    <tr>\n",
       "      <th>183</th>\n",
       "      <td>q4</td>\n",
       "      <td>37</td>\n",
       "      <td>d38</td>\n",
       "      <td>1</td>\n",
       "      <td>7.369159</td>\n",
       "      <td>USA</td>\n",
       "    </tr>\n",
       "    <tr>\n",
       "      <th>184</th>\n",
       "      <td>q4</td>\n",
       "      <td>323</td>\n",
       "      <td>d324</td>\n",
       "      <td>2</td>\n",
       "      <td>5.813612</td>\n",
       "      <td>USA</td>\n",
       "    </tr>\n",
       "  </tbody>\n",
       "</table>\n",
       "<p>185 rows × 6 columns</p>\n",
       "</div>"
      ],
      "text/plain": [
       "    qid  docid docno  rank      score      query\n",
       "0    q1     15   d16     0   9.957912  addiction\n",
       "1    q1     87   d88     1   8.445748  addiction\n",
       "2    q1    176  d177     2   8.236193  addiction\n",
       "3    q1    352  d353     3   8.205934  addiction\n",
       "4    q1    133  d134     4   6.743001  addiction\n",
       "..   ..    ...   ...   ...        ...        ...\n",
       "180  q3    187  d188    59   1.338348        age\n",
       "181  q3    316  d317    60   1.030054        age\n",
       "182  q4    347  d348     0  10.398220        USA\n",
       "183  q4     37   d38     1   7.369159        USA\n",
       "184  q4    323  d324     2   5.813612        USA\n",
       "\n",
       "[185 rows x 6 columns]"
      ]
     },
     "execution_count": 49,
     "metadata": {},
     "output_type": "execute_result"
    }
   ],
   "source": [
    "index = pt.IndexFactory.of(\"c:/Users/Fortu/Downloads/Aut2024/Info 376/midterm_practice/webcrawler_index/data.properties\")\n",
    "BM = pt.BatchRetrieve(index, wmodel=\"BM25\")\n",
    "BM.transform(queries)"
   ]
  },
  {
   "cell_type": "markdown",
   "metadata": {},
   "source": [
    "Kill any existing server you have running in the background. Now edit and start the server script and have it listen to your assigned port. When one enters a query on your search page, it should display ranked results from your index. Submit the URL for this search page. [10 points]"
   ]
  },
  {
   "cell_type": "code",
   "execution_count": 50,
   "metadata": {},
   "outputs": [],
   "source": [
    "# my assigned port (10014) was taken so I used 10001"
   ]
  },
  {
   "cell_type": "markdown",
   "metadata": {},
   "source": [
    "## Problem-2: Indexing to evaluation"
   ]
  },
  {
   "cell_type": "markdown",
   "metadata": {},
   "source": [
    "Use the [LA Times data](https://canvas.uw.edu/courses/1749081/files/123678295?wrap=1) in TREC format available from here to index using Pyterrier. Make sure you index with tags 'DOCNO' and 'HEADLINE'. Report index statistics. [10 points]"
   ]
  },
  {
   "cell_type": "code",
   "execution_count": 51,
   "metadata": {},
   "outputs": [
    {
     "name": "stderr",
     "output_type": "stream",
     "text": [
      "2files [01:46, 53.07s/files]            \n"
     ]
    },
    {
     "name": "stdout",
     "output_type": "stream",
     "text": [
      "Number of documents: 131896\n",
      "Number of terms: 188927\n",
      "Number of postings: 24807798\n",
      "Number of fields: 0\n",
      "Number of tokens: 40507829\n",
      "Field names: []\n",
      "Positions:   false\n",
      "\n"
     ]
    }
   ],
   "source": [
    "files = pt.io.find_files('c:/Users/Fortu/Downloads/Aut2024/Info 376/latimes')\n",
    "indexer = pt.TRECCollectionIndexer('c:/Users/Fortu/Downloads/Aut2024/Info 376/midterm_practice/la_times_index',\n",
    "              verbose=True, blocks=False,\n",
    "              meta={\"docno\":20,\"filename\":1024,\"headline\":1024},meta_tags={\"headline\":\"headline\"},\n",
    "              overwrite=True)\n",
    "indexref = indexer.index(files)\n",
    "index = pt.IndexFactory.of(indexref)\n",
    "print(index.getCollectionStatistics().toString())"
   ]
  },
  {
   "cell_type": "markdown",
   "metadata": {},
   "source": [
    "Show how you can retrieve the docno for a document in that collection by providing a docid (e.g., 0, 1, 2) with a couple of examples. Report your Pyterrier commands and outcomes. [5 points]"
   ]
  },
  {
   "cell_type": "code",
   "execution_count": 52,
   "metadata": {},
   "outputs": [
    {
     "name": "stdout",
     "output_type": "stream",
     "text": [
      "Docid: 0, Docno: LA010189-0001\n",
      "Docid: 1, Docno: LA010189-0002\n"
     ]
    }
   ],
   "source": [
    "meta = index.getMetaIndex()\n",
    "docid = 0\n",
    "docno = meta.getItem(\"docno\", docid)\n",
    "print(f\"Docid: {docid}, Docno: {docno}\")\n",
    "\n",
    "docid = 1\n",
    "docno = meta.getItem(\"docno\", docid)\n",
    "print(f\"Docid: {docid}, Docno: {docno}\")"
   ]
  },
  {
   "cell_type": "markdown",
   "metadata": {},
   "source": [
    "Prepare a query file or a dataframe for batch processing. This file should be in TREC format and should contain the following queries: \"curbing population growth\" (q435), \"railway accidents\" (q436), \"inventions, scientific discoveries\" (q439), \"ship losses\" (q448), \"King Hussein, peace\" (q450). The numbers in parentheses are query numbers. Show your query file or dataframe. [5 points]"
   ]
  },
  {
   "cell_type": "code",
   "execution_count": 53,
   "metadata": {},
   "outputs": [
    {
     "data": {
      "text/html": [
       "<div>\n",
       "<style scoped>\n",
       "    .dataframe tbody tr th:only-of-type {\n",
       "        vertical-align: middle;\n",
       "    }\n",
       "\n",
       "    .dataframe tbody tr th {\n",
       "        vertical-align: top;\n",
       "    }\n",
       "\n",
       "    .dataframe thead th {\n",
       "        text-align: right;\n",
       "    }\n",
       "</style>\n",
       "<table border=\"1\" class=\"dataframe\">\n",
       "  <thead>\n",
       "    <tr style=\"text-align: right;\">\n",
       "      <th></th>\n",
       "      <th>qid</th>\n",
       "      <th>query</th>\n",
       "    </tr>\n",
       "  </thead>\n",
       "  <tbody>\n",
       "    <tr>\n",
       "      <th>0</th>\n",
       "      <td>q435</td>\n",
       "      <td>curbing population growth</td>\n",
       "    </tr>\n",
       "    <tr>\n",
       "      <th>1</th>\n",
       "      <td>q436</td>\n",
       "      <td>railway accidents</td>\n",
       "    </tr>\n",
       "    <tr>\n",
       "      <th>2</th>\n",
       "      <td>q439</td>\n",
       "      <td>inventions, scientific discoveries</td>\n",
       "    </tr>\n",
       "    <tr>\n",
       "      <th>3</th>\n",
       "      <td>q448</td>\n",
       "      <td>ship losses</td>\n",
       "    </tr>\n",
       "    <tr>\n",
       "      <th>4</th>\n",
       "      <td>q450</td>\n",
       "      <td>King Hussein, peace</td>\n",
       "    </tr>\n",
       "  </tbody>\n",
       "</table>\n",
       "</div>"
      ],
      "text/plain": [
       "    qid                               query\n",
       "0  q435           curbing population growth\n",
       "1  q436                   railway accidents\n",
       "2  q439  inventions, scientific discoveries\n",
       "3  q448                         ship losses\n",
       "4  q450                 King Hussein, peace"
      ]
     },
     "execution_count": 53,
     "metadata": {},
     "output_type": "execute_result"
    }
   ],
   "source": [
    "queries_trec = pd.DataFrame([\n",
    "  [\"q435\", \"curbing population growth\"],\n",
    "  [\"q436\", \"railway accidents\"],\n",
    "  [\"q439\", \"inventions, scientific discoveries\"],\n",
    "  [\"q448\", \"ship losses\"],\n",
    "  [\"q450\", \"King Hussein, peace\"]\n",
    "], columns=[\"qid\", \"query\"])\n",
    "\n",
    "queries_trec"
   ]
  },
  {
   "cell_type": "markdown",
   "metadata": {},
   "source": [
    "Perform retrieval using three different retrieval models/methods. Report the ranked results, up to 10, for each of these. [10 points]"
   ]
  },
  {
   "cell_type": "code",
   "execution_count": 54,
   "metadata": {},
   "outputs": [
    {
     "name": "stderr",
     "output_type": "stream",
     "text": [
      "C:\\Users\\Fortu\\AppData\\Local\\Temp\\ipykernel_9280\\3012119167.py:2: DeprecationWarning: Call to deprecated class BatchRetrieve. (use pt.terrier.Retriever() instead) -- Deprecated since version 0.11.0.\n",
      "  BM = pt.BatchRetrieve(index, wmodel=\"BM25\")\n",
      "C:\\Users\\Fortu\\AppData\\Local\\Temp\\ipykernel_9280\\3012119167.py:3: DeprecationWarning: Call to deprecated class BatchRetrieve. (use pt.terrier.Retriever() instead) -- Deprecated since version 0.11.0.\n",
      "  TF_IDF = pt.BatchRetrieve(index, wmodel=\"TF_IDF\")\n",
      "C:\\Users\\Fortu\\AppData\\Local\\Temp\\ipykernel_9280\\3012119167.py:4: DeprecationWarning: Call to deprecated class BatchRetrieve. (use pt.terrier.Retriever() instead) -- Deprecated since version 0.11.0.\n",
      "  Hiem = pt.BatchRetrieve(index, wmodel=\"Hiemstra_LM\")\n"
     ]
    }
   ],
   "source": [
    "index = pt.IndexFactory.of(\"c:/Users/Fortu/Downloads/Aut2024/Info 376/midterm_practice/la_times_index/data.properties\")\n",
    "BM = pt.BatchRetrieve(index, wmodel=\"BM25\")\n",
    "TF_IDF = pt.BatchRetrieve(index, wmodel=\"TF_IDF\")\n",
    "Hiem = pt.BatchRetrieve(index, wmodel=\"Hiemstra_LM\")"
   ]
  },
  {
   "cell_type": "code",
   "execution_count": 63,
   "metadata": {},
   "outputs": [],
   "source": [
    "BM_values = BM.transform(queries_trec)\n",
    "TF_IDF_values = TF_IDF.transform(queries_trec)\n",
    "Hiem_values = Hiem.transform(queries_trec)"
   ]
  },
  {
   "cell_type": "code",
   "execution_count": 65,
   "metadata": {},
   "outputs": [
    {
     "name": "stdout",
     "output_type": "stream",
     "text": [
      "    qid   docid          docno  rank      score                      query\n",
      "0  q435  126171  LA121589-0139     0  25.390996  curbing population growth\n",
      "1  q435   83083  LA082189-0092     1  23.927200  curbing population growth\n",
      "2  q435   48392  LA051590-0008     2  23.758792  curbing population growth\n",
      "3  q435  107074  LA102689-0071     3  23.073475  curbing population growth\n",
      "4  q435   31179  LA032990-0138     4  22.825540  curbing population growth\n",
      "5  q435  122235  LA120589-0035     5  22.547941  curbing population growth\n",
      "6  q435   46844  LA051189-0089     6  21.957725  curbing population growth\n",
      "7  q435   89431  LA090890-0109     7  21.014325  curbing population growth\n",
      "8  q435    2032  LA010790-0036     8  20.837134  curbing population growth\n",
      "9  q435   44580  LA050490-0199     9  20.675308  curbing population growth\n"
     ]
    }
   ],
   "source": [
    "print(BM_values.head(10))"
   ]
  },
  {
   "cell_type": "code",
   "execution_count": 66,
   "metadata": {},
   "outputs": [
    {
     "name": "stdout",
     "output_type": "stream",
     "text": [
      "    qid   docid          docno  rank      score                      query\n",
      "0  q435  126171  LA121589-0139     0  14.082744  curbing population growth\n",
      "1  q435   83083  LA082189-0092     1  13.269034  curbing population growth\n",
      "2  q435   48392  LA051590-0008     2  13.174410  curbing population growth\n",
      "3  q435  107074  LA102689-0071     3  12.799793  curbing population growth\n",
      "4  q435   31179  LA032990-0138     4  12.655082  curbing population growth\n",
      "5  q435  122235  LA120589-0035     5  12.527306  curbing population growth\n",
      "6  q435   46844  LA051189-0089     6  12.206764  curbing population growth\n",
      "7  q435   89431  LA090890-0109     7  11.647640  curbing population growth\n",
      "8  q435    2032  LA010790-0036     8  11.587420  curbing population growth\n",
      "9  q435   44580  LA050490-0199     9  11.474252  curbing population growth\n"
     ]
    }
   ],
   "source": [
    "print(TF_IDF_values.head(10))"
   ]
  },
  {
   "cell_type": "code",
   "execution_count": 67,
   "metadata": {},
   "outputs": [
    {
     "name": "stdout",
     "output_type": "stream",
     "text": [
      "    qid   docid          docno  rank      score                      query\n",
      "0  q435  126171  LA121589-0139     0  15.093337  curbing population growth\n",
      "1  q435   83083  LA082189-0092     1  13.261315  curbing population growth\n",
      "2  q435   48392  LA051590-0008     2  13.008375  curbing population growth\n",
      "3  q435  122235  LA120589-0035     3  11.152714  curbing population growth\n",
      "4  q435   89431  LA090890-0109     4  10.840118  curbing population growth\n",
      "5  q435  107074  LA102689-0071     5  10.820350  curbing population growth\n",
      "6  q435   46844  LA051189-0089     6  10.618389  curbing population growth\n",
      "7  q435   31179  LA032990-0138     7  10.535393  curbing population growth\n",
      "8  q435    2032  LA010790-0036     8  10.483613  curbing population growth\n",
      "9  q435  131639  LA123189-0076     9  10.285353  curbing population growth\n"
     ]
    }
   ],
   "source": [
    "print(Hiem_values.head(10))"
   ]
  },
  {
   "cell_type": "markdown",
   "metadata": {},
   "source": [
    "Use the provided [qrels document](https://canvas.uw.edu/courses/1749081/files/123678317?wrap=1) to perform evaluation on these results. Report MAP, R-precision, and reciprocal rank values. Provide your brief thoughts on how well your retrieval models are doing. [15 points]"
   ]
  },
  {
   "cell_type": "code",
   "execution_count": 75,
   "metadata": {},
   "outputs": [
    {
     "name": "stdout",
     "output_type": "stream",
     "text": [
      "                       name       map  recip_rank     Rprec\n",
      "0         TerrierRetr(BM25)  0.021449    0.415009  0.044059\n",
      "1       TerrierRetr(TF_IDF)  0.021637    0.414996  0.044742\n",
      "2  TerrierRetr(Hiemstra_LM)  0.023595    0.425238  0.042602\n"
     ]
    }
   ],
   "source": [
    "from pyterrier.measures import *\n",
    "\n",
    "# Load the qrels file\n",
    "qrels = pd.read_csv('C:/Users/Fortu/Downloads/Aut2024/Info 376/qrels.csv')\n",
    "\n",
    "# Perform evaluation\n",
    "results = pt.Experiment(\n",
    "    [BM, TF_IDF, Hiem],\n",
    "    queries_trec,\n",
    "    qrels,\n",
    "    [\"map\", \"recip_rank\", \"Rprec\"]\n",
    ")\n",
    "\n",
    "print(results)\n"
   ]
  },
  {
   "cell_type": "markdown",
   "metadata": {},
   "source": [
    "### Evaluation of Retrieval Models\n",
    "\n",
    "The evaluation of the three retrieval models (BM25, TF_IDF, and Hiemstra_LM) using the metrics MAP, Reciprocal Rank, and R-precision provides insights into their performance:\n",
    "\n",
    "- **BM25**:\n",
    "  - **MAP**: 0.021449\n",
    "  - **Reciprocal Rank**: 0.415009\n",
    "  - **R-precision**: 0.044059\n",
    "\n",
    "- **TF_IDF**:\n",
    "  - **MAP**: 0.021637\n",
    "  - **Reciprocal Rank**: 0.414996\n",
    "  - **R-precision**: 0.044742\n",
    "\n",
    "- **Hiemstra_LM**:\n",
    "  - **MAP**: 0.023595\n",
    "  - **Reciprocal Rank**: 0.425238\n",
    "  - **R-precision**: 0.042602\n",
    "\n",
    "#### Observations:\n",
    "1. **MAP (Mean Average Precision)**: Hiemstra_LM has the highest MAP, indicating it performs slightly better in terms of precision across all queries.\n",
    "2. **Reciprocal Rank**: Hiemstra_LM also has the highest reciprocal rank, suggesting it is more effective at retrieving the top relevant document.\n",
    "3. **R-precision**: TF_IDF has the highest R-precision, indicating it performs better in terms of precision at the rank cut-off point.\n",
    "\n",
    "Overall, Hiemstra_LM appears to be the most effective model based on MAP and Reciprocal Rank, while TF_IDF shows its strength in R-precision (at least in this case). BM25 performs consistently but slightly lower than the other two models in these metrics. This shows that different models have varying strengths in retrieval performance, and the choice of model can impact the effectiveness of the retrieval system."
   ]
  }
 ],
 "metadata": {
  "kernelspec": {
   "display_name": "Python 3",
   "language": "python",
   "name": "python3"
  },
  "language_info": {
   "codemirror_mode": {
    "name": "ipython",
    "version": 3
   },
   "file_extension": ".py",
   "mimetype": "text/x-python",
   "name": "python",
   "nbconvert_exporter": "python",
   "pygments_lexer": "ipython3",
   "version": "3.12.7"
  }
 },
 "nbformat": 4,
 "nbformat_minor": 2
}
