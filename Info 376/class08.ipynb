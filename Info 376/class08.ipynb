{
 "cells": [
  {
   "cell_type": "code",
   "execution_count": 1,
   "metadata": {},
   "outputs": [
    {
     "name": "stderr",
     "output_type": "stream",
     "text": [
      "C:\\Users\\Fortu\\AppData\\Local\\Temp\\ipykernel_66760\\1742394333.py:2: DeprecationWarning: Call to deprecated function (or staticmethod) started. (use pt.java.started() instead) -- Deprecated since version 0.11.0.\n",
      "  if not pt.started():\n",
      "Java started and loaded: pyterrier.java, pyterrier.terrier.java [version=5.10 (build: craigm 2024-08-22 17:33), helper_version=0.0.8]\n",
      "C:\\Users\\Fortu\\AppData\\Local\\Temp\\ipykernel_66760\\1742394333.py:3: DeprecationWarning: Call to deprecated method pt.init(). Deprecated since version 0.11.0.\n",
      "java is now started automatically with default settings. To force initialisation early, run:\n",
      "pt.java.init() # optional, forces java initialisation\n",
      "  pt.init()\n"
     ]
    }
   ],
   "source": [
    "import pyterrier as pt\n",
    "if not pt.started():\n",
    "  pt.init()"
   ]
  },
  {
   "cell_type": "code",
   "execution_count": 5,
   "metadata": {},
   "outputs": [
    {
     "name": "stdout",
     "output_type": "stream",
     "text": [
      "Number of documents: 73\n",
      "Number of terms: 5494\n",
      "Number of postings: 28704\n",
      "Number of fields: 0\n",
      "Number of tokens: 70467\n",
      "Field names: []\n",
      "Positions:   false\n",
      "\n"
     ]
    }
   ],
   "source": [
    "files = pt.io.find_files(\"c:/Users/Fortu/Downloads/Aut2024/Info 376/paulgraham.com\")\n",
    "indexer = pt.FilesIndexer(\"c:/Users/Fortu/Downloads/Aut2024/Info 376/gp_index\",\n",
    "                          meta={\"docno\":20,\"filename\":1024,\"title\":1024},meta_tags={\"title\":\"title\"})\n",
    "indexref = indexer.index(files)\n",
    "index = pt.IndexFactory.of(indexref)\n",
    "print (index.getCollectionStatistics().toString())"
   ]
  },
  {
   "cell_type": "code",
   "execution_count": 6,
   "metadata": {},
   "outputs": [
    {
     "name": "stdout",
     "output_type": "stream",
     "text": [
      "['docno', 'filename', 'title']\n"
     ]
    }
   ],
   "source": [
    "print(index.getMetaIndex().getKeys())"
   ]
  },
  {
   "cell_type": "code",
   "execution_count": 7,
   "metadata": {},
   "outputs": [
    {
     "name": "stdout",
     "output_type": "stream",
     "text": [
      "c:/Users/Fortu/Downloads/Aut2024/Info 376/paulgraham.com\\paulgraham.com\\boss.html\n",
      "You Weren't Meant to Have a Boss\n"
     ]
    }
   ],
   "source": [
    "print(index.getMetaIndex().getItem(\"filename\", 15))\n",
    "print(index.getMetaIndex().getItem(\"title\", 15))"
   ]
  },
  {
   "cell_type": "code",
   "execution_count": 8,
   "metadata": {},
   "outputs": [
    {
     "data": {
      "text/html": [
       "<div>\n",
       "<style scoped>\n",
       "    .dataframe tbody tr th:only-of-type {\n",
       "        vertical-align: middle;\n",
       "    }\n",
       "\n",
       "    .dataframe tbody tr th {\n",
       "        vertical-align: top;\n",
       "    }\n",
       "\n",
       "    .dataframe thead th {\n",
       "        text-align: right;\n",
       "    }\n",
       "</style>\n",
       "<table border=\"1\" class=\"dataframe\">\n",
       "  <thead>\n",
       "    <tr style=\"text-align: right;\">\n",
       "      <th></th>\n",
       "      <th>qid</th>\n",
       "      <th>query</th>\n",
       "    </tr>\n",
       "  </thead>\n",
       "  <tbody>\n",
       "    <tr>\n",
       "      <th>0</th>\n",
       "      <td>q1</td>\n",
       "      <td>airbnb</td>\n",
       "    </tr>\n",
       "    <tr>\n",
       "      <th>1</th>\n",
       "      <td>q2</td>\n",
       "      <td>addiction</td>\n",
       "    </tr>\n",
       "  </tbody>\n",
       "</table>\n",
       "</div>"
      ],
      "text/plain": [
       "  qid      query\n",
       "0  q1     airbnb\n",
       "1  q2  addiction"
      ]
     },
     "execution_count": 8,
     "metadata": {},
     "output_type": "execute_result"
    }
   ],
   "source": [
    "import pandas as pd\n",
    "queries = pd.DataFrame([[\"q1\",\"airbnb\"], [\"q2\",\"addiction\"]], columns=[\"qid\",\"query\"])\n",
    "queries"
   ]
  },
  {
   "cell_type": "code",
   "execution_count": 10,
   "metadata": {},
   "outputs": [
    {
     "name": "stderr",
     "output_type": "stream",
     "text": [
      "C:\\Users\\Fortu\\AppData\\Local\\Temp\\ipykernel_66760\\263200715.py:2: DeprecationWarning: Call to deprecated class BatchRetrieve. (use pt.terrier.Retriever() instead) -- Deprecated since version 0.11.0.\n",
      "  tf_idf = pt.BatchRetrieve(index, wmodel=\"TF_IDF\")\n"
     ]
    },
    {
     "data": {
      "text/html": [
       "<div>\n",
       "<style scoped>\n",
       "    .dataframe tbody tr th:only-of-type {\n",
       "        vertical-align: middle;\n",
       "    }\n",
       "\n",
       "    .dataframe tbody tr th {\n",
       "        vertical-align: top;\n",
       "    }\n",
       "\n",
       "    .dataframe thead th {\n",
       "        text-align: right;\n",
       "    }\n",
       "</style>\n",
       "<table border=\"1\" class=\"dataframe\">\n",
       "  <thead>\n",
       "    <tr style=\"text-align: right;\">\n",
       "      <th></th>\n",
       "      <th>qid</th>\n",
       "      <th>docid</th>\n",
       "      <th>docno</th>\n",
       "      <th>rank</th>\n",
       "      <th>score</th>\n",
       "      <th>query</th>\n",
       "    </tr>\n",
       "  </thead>\n",
       "  <tbody>\n",
       "    <tr>\n",
       "      <th>0</th>\n",
       "      <td>q1</td>\n",
       "      <td>5</td>\n",
       "      <td>d6</td>\n",
       "      <td>0</td>\n",
       "      <td>4.500498</td>\n",
       "      <td>airbnb</td>\n",
       "    </tr>\n",
       "    <tr>\n",
       "      <th>1</th>\n",
       "      <td>q1</td>\n",
       "      <td>25</td>\n",
       "      <td>d26</td>\n",
       "      <td>1</td>\n",
       "      <td>3.066694</td>\n",
       "      <td>airbnb</td>\n",
       "    </tr>\n",
       "    <tr>\n",
       "      <th>2</th>\n",
       "      <td>q1</td>\n",
       "      <td>9</td>\n",
       "      <td>d10</td>\n",
       "      <td>2</td>\n",
       "      <td>2.932703</td>\n",
       "      <td>airbnb</td>\n",
       "    </tr>\n",
       "    <tr>\n",
       "      <th>3</th>\n",
       "      <td>q1</td>\n",
       "      <td>13</td>\n",
       "      <td>d14</td>\n",
       "      <td>3</td>\n",
       "      <td>2.831951</td>\n",
       "      <td>airbnb</td>\n",
       "    </tr>\n",
       "    <tr>\n",
       "      <th>4</th>\n",
       "      <td>q1</td>\n",
       "      <td>12</td>\n",
       "      <td>d13</td>\n",
       "      <td>4</td>\n",
       "      <td>1.399399</td>\n",
       "      <td>airbnb</td>\n",
       "    </tr>\n",
       "    <tr>\n",
       "      <th>5</th>\n",
       "      <td>q2</td>\n",
       "      <td>4</td>\n",
       "      <td>d5</td>\n",
       "      <td>0</td>\n",
       "      <td>4.825277</td>\n",
       "      <td>addiction</td>\n",
       "    </tr>\n",
       "    <tr>\n",
       "      <th>6</th>\n",
       "      <td>q2</td>\n",
       "      <td>63</td>\n",
       "      <td>d64</td>\n",
       "      <td>1</td>\n",
       "      <td>3.921207</td>\n",
       "      <td>addiction</td>\n",
       "    </tr>\n",
       "    <tr>\n",
       "      <th>7</th>\n",
       "      <td>q2</td>\n",
       "      <td>29</td>\n",
       "      <td>d30</td>\n",
       "      <td>2</td>\n",
       "      <td>3.174706</td>\n",
       "      <td>addiction</td>\n",
       "    </tr>\n",
       "    <tr>\n",
       "      <th>8</th>\n",
       "      <td>q2</td>\n",
       "      <td>64</td>\n",
       "      <td>d65</td>\n",
       "      <td>3</td>\n",
       "      <td>2.844935</td>\n",
       "      <td>addiction</td>\n",
       "    </tr>\n",
       "  </tbody>\n",
       "</table>\n",
       "</div>"
      ],
      "text/plain": [
       "  qid  docid docno  rank     score      query\n",
       "0  q1      5    d6     0  4.500498     airbnb\n",
       "1  q1     25   d26     1  3.066694     airbnb\n",
       "2  q1      9   d10     2  2.932703     airbnb\n",
       "3  q1     13   d14     3  2.831951     airbnb\n",
       "4  q1     12   d13     4  1.399399     airbnb\n",
       "5  q2      4    d5     0  4.825277  addiction\n",
       "6  q2     63   d64     1  3.921207  addiction\n",
       "7  q2     29   d30     2  3.174706  addiction\n",
       "8  q2     64   d65     3  2.844935  addiction"
      ]
     },
     "execution_count": 10,
     "metadata": {},
     "output_type": "execute_result"
    }
   ],
   "source": [
    "index = pt.IndexFactory.of(\"c:/Users/Fortu/Downloads/Aut2024/Info 376/gp_index/data.properties\")\n",
    "tf_idf = pt.BatchRetrieve(index, wmodel=\"TF_IDF\")\n",
    "tf_idf.transform(queries)"
   ]
  },
  {
   "cell_type": "code",
   "execution_count": null,
   "metadata": {},
   "outputs": [],
   "source": []
  }
 ],
 "metadata": {
  "kernelspec": {
   "display_name": "Python 3",
   "language": "python",
   "name": "python3"
  },
  "language_info": {
   "codemirror_mode": {
    "name": "ipython",
    "version": 3
   },
   "file_extension": ".py",
   "mimetype": "text/x-python",
   "name": "python",
   "nbconvert_exporter": "python",
   "pygments_lexer": "ipython3",
   "version": "3.12.7"
  }
 },
 "nbformat": 4,
 "nbformat_minor": 2
}
