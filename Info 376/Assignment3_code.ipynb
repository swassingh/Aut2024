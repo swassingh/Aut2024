{
 "cells": [
  {
   "cell_type": "code",
   "execution_count": 1,
   "metadata": {},
   "outputs": [
    {
     "name": "stderr",
     "output_type": "stream",
     "text": [
      "C:\\Users\\Fortu\\AppData\\Local\\Temp\\ipykernel_26680\\2060694631.py:3: DeprecationWarning: Call to deprecated function (or staticmethod) started. (use pt.java.started() instead) -- Deprecated since version 0.11.0.\n",
      "  if not pt.started():\n",
      "Java started and loaded: pyterrier.java, pyterrier.terrier.java [version=5.10 (build: craigm 2024-08-22 17:33), helper_version=0.0.8]\n",
      "C:\\Users\\Fortu\\AppData\\Local\\Temp\\ipykernel_26680\\2060694631.py:4: DeprecationWarning: Call to deprecated method pt.init(). Deprecated since version 0.11.0.\n",
      "java is now started automatically with default settings. To force initialisation early, run:\n",
      "pt.java.init() # optional, forces java initialisation\n",
      "  pt.init()\n"
     ]
    }
   ],
   "source": [
    "import pyterrier as pt\n",
    "\n",
    "if not pt.started():\n",
    "  pt.init()"
   ]
  },
  {
   "cell_type": "code",
   "execution_count": 2,
   "metadata": {},
   "outputs": [],
   "source": [
    "import pandas as pd"
   ]
  },
  {
   "cell_type": "code",
   "execution_count": 9,
   "metadata": {},
   "outputs": [
    {
     "name": "stdout",
     "output_type": "stream",
     "text": [
      "  docno   url                                               text\n",
      "0     1  url1  Some years ago - never mind how long precisely...\n",
      "1     2  url2  It was the best of times, it was the worst of ...\n",
      "2     3  url3  When he was nearly thirteen, my brother Jem go...\n"
     ]
    }
   ],
   "source": [
    "# Define the documents\n",
    "documents = [\n",
    "  \"Some years ago - never mind how long precisely - having little or no money in my purse, and nothing particular to interest me on shore, I thought I would sail about a little and see the watery part of the world.\",\n",
    "  \"It was the best of times, it was the worst of times, it was the age of wisdom, it was the age of foolishness, it was the epoch of belief, it was the epoch of incredulity, it was the season of Light, it was the season of Darkness, it was the spring of hope, it was the winter of despair.\",\n",
    "  \"When he was nearly thirteen, my brother Jem got his arm badly broken at the elbow. When it healed, and Jem's fears of never being able to play football were assuaged, he was seldom self-conscious about his injury. His left arm was somewhat shorter than his right; when he stood or walked, the back of his hand was at right angles to his body, his thumb parallel to his thigh. He couldn't have cared less, so long as he could pass and punt.\"\n",
    "]\n",
    "\n",
    "# Create a dataframe from the documents\n",
    "df = pd.DataFrame({\n",
    "    'docno': ['1', '2', '3'],\n",
    "    'url': ['url1', 'url2', 'url3'],\n",
    "    'text': documents\n",
    "})\n",
    "print(df)"
   ]
  },
  {
   "cell_type": "code",
   "execution_count": 13,
   "metadata": {},
   "outputs": [
    {
     "name": "stderr",
     "output_type": "stream",
     "text": [
      "C:\\Users\\Fortu\\AppData\\Local\\Temp\\ipykernel_26680\\3923159418.py:2: DeprecationWarning: Call to deprecated class DFIndexer. (use pt.terrier.IterDictIndexer().index(dataframe.to_dict(orient='records')) instead) -- Deprecated since version 0.11.0.\n",
      "  indexer = pt.DFIndexer(\"c:/Users/Fortu/Downloads/Aut2024/Info 376/index\")\n"
     ]
    },
    {
     "name": "stdout",
     "output_type": "stream",
     "text": [
      "Number of documents: 3\n",
      "Number of terms: 67\n",
      "Number of postings: 68\n",
      "Number of fields: 0\n",
      "Number of tokens: 76\n",
      "Field names: []\n",
      "Positions:   false\n",
      "\n"
     ]
    }
   ],
   "source": [
    "# Index the documents\n",
    "indexer = pt.DFIndexer(\"c:/Users/Fortu/Downloads/Aut2024/Info 376/index\")\n",
    "indexref = indexer.index(df[\"text\"], df[\"docno\"])\n",
    "\n",
    "# Create the index\n",
    "index = pt.IndexFactory.of(indexref)\n",
    "print(index.getCollectionStatistics().toString())"
   ]
  },
  {
   "cell_type": "code",
   "execution_count": 14,
   "metadata": {},
   "outputs": [
    {
     "name": "stderr",
     "output_type": "stream",
     "text": [
      "3files [00:01,  1.81files/s]            "
     ]
    },
    {
     "name": "stdout",
     "output_type": "stream",
     "text": [
      "Number of documents: 722\n",
      "Number of terms: 19891\n",
      "Number of postings: 215372\n",
      "Number of fields: 0\n",
      "Number of tokens: 357606\n",
      "Field names: []\n",
      "Positions:   false\n",
      "\n"
     ]
    },
    {
     "name": "stderr",
     "output_type": "stream",
     "text": [
      "\n"
     ]
    }
   ],
   "source": [
    "files = pt.io.find_files('./nyt/nyt')\n",
    "indexer = pt.TRECCollectionIndexer('c:/Users/Fortu/Downloads/Aut2024/Info 376/nyt_index', verbose=True, blocks=False)\n",
    "indexref = indexer.index(files)\n",
    "index = pt.IndexFactory.of(indexref)\n",
    "print(index.getCollectionStatistics().toString())"
   ]
  },
  {
   "cell_type": "code",
   "execution_count": 16,
   "metadata": {},
   "outputs": [],
   "source": [
    "queries = pd.DataFrame([[\"q1\",\"explosive\"]], columns=[\"qid\",\"query\"])"
   ]
  },
  {
   "cell_type": "code",
   "execution_count": 24,
   "metadata": {},
   "outputs": [
    {
     "name": "stdout",
     "output_type": "stream",
     "text": [
      "data for TFIDF:\n"
     ]
    },
    {
     "name": "stderr",
     "output_type": "stream",
     "text": [
      "C:\\Users\\Fortu\\AppData\\Local\\Temp\\ipykernel_26680\\2067081987.py:2: DeprecationWarning: Call to deprecated class BatchRetrieve. (use pt.terrier.Retriever() instead) -- Deprecated since version 0.11.0.\n",
      "  tf_idf = pt.BatchRetrieve(index, wmodel=\"TF_IDF\")\n"
     ]
    },
    {
     "data": {
      "text/html": [
       "<div>\n",
       "<style scoped>\n",
       "    .dataframe tbody tr th:only-of-type {\n",
       "        vertical-align: middle;\n",
       "    }\n",
       "\n",
       "    .dataframe tbody tr th {\n",
       "        vertical-align: top;\n",
       "    }\n",
       "\n",
       "    .dataframe thead th {\n",
       "        text-align: right;\n",
       "    }\n",
       "</style>\n",
       "<table border=\"1\" class=\"dataframe\">\n",
       "  <thead>\n",
       "    <tr style=\"text-align: right;\">\n",
       "      <th></th>\n",
       "      <th>qid</th>\n",
       "      <th>docid</th>\n",
       "      <th>docno</th>\n",
       "      <th>rank</th>\n",
       "      <th>score</th>\n",
       "      <th>query</th>\n",
       "    </tr>\n",
       "  </thead>\n",
       "  <tbody>\n",
       "    <tr>\n",
       "      <th>0</th>\n",
       "      <td>q1</td>\n",
       "      <td>195</td>\n",
       "      <td>NYT20000131.0004</td>\n",
       "      <td>0</td>\n",
       "      <td>5.367714</td>\n",
       "      <td>explosive</td>\n",
       "    </tr>\n",
       "    <tr>\n",
       "      <th>1</th>\n",
       "      <td>q1</td>\n",
       "      <td>192</td>\n",
       "      <td>NYT20000131.0001</td>\n",
       "      <td>1</td>\n",
       "      <td>4.618058</td>\n",
       "      <td>explosive</td>\n",
       "    </tr>\n",
       "    <tr>\n",
       "      <th>2</th>\n",
       "      <td>q1</td>\n",
       "      <td>441</td>\n",
       "      <td>NYT20000131.0259</td>\n",
       "      <td>2</td>\n",
       "      <td>3.783786</td>\n",
       "      <td>explosive</td>\n",
       "    </tr>\n",
       "    <tr>\n",
       "      <th>3</th>\n",
       "      <td>q1</td>\n",
       "      <td>714</td>\n",
       "      <td>NYT20000131.0551</td>\n",
       "      <td>3</td>\n",
       "      <td>3.346567</td>\n",
       "      <td>explosive</td>\n",
       "    </tr>\n",
       "    <tr>\n",
       "      <th>4</th>\n",
       "      <td>q1</td>\n",
       "      <td>145</td>\n",
       "      <td>NYT20000130.0162</td>\n",
       "      <td>4</td>\n",
       "      <td>3.204738</td>\n",
       "      <td>explosive</td>\n",
       "    </tr>\n",
       "    <tr>\n",
       "      <th>5</th>\n",
       "      <td>q1</td>\n",
       "      <td>164</td>\n",
       "      <td>NYT20000130.0185</td>\n",
       "      <td>5</td>\n",
       "      <td>2.827687</td>\n",
       "      <td>explosive</td>\n",
       "    </tr>\n",
       "    <tr>\n",
       "      <th>6</th>\n",
       "      <td>q1</td>\n",
       "      <td>104</td>\n",
       "      <td>NYT20000130.0119</td>\n",
       "      <td>6</td>\n",
       "      <td>2.804665</td>\n",
       "      <td>explosive</td>\n",
       "    </tr>\n",
       "    <tr>\n",
       "      <th>7</th>\n",
       "      <td>q1</td>\n",
       "      <td>53</td>\n",
       "      <td>NYT20000130.0059</td>\n",
       "      <td>7</td>\n",
       "      <td>2.779521</td>\n",
       "      <td>explosive</td>\n",
       "    </tr>\n",
       "    <tr>\n",
       "      <th>8</th>\n",
       "      <td>q1</td>\n",
       "      <td>351</td>\n",
       "      <td>NYT20000131.0166</td>\n",
       "      <td>8</td>\n",
       "      <td>2.687949</td>\n",
       "      <td>explosive</td>\n",
       "    </tr>\n",
       "    <tr>\n",
       "      <th>9</th>\n",
       "      <td>q1</td>\n",
       "      <td>358</td>\n",
       "      <td>NYT20000131.0173</td>\n",
       "      <td>9</td>\n",
       "      <td>2.687949</td>\n",
       "      <td>explosive</td>\n",
       "    </tr>\n",
       "  </tbody>\n",
       "</table>\n",
       "</div>"
      ],
      "text/plain": [
       "  qid  docid             docno  rank     score      query\n",
       "0  q1    195  NYT20000131.0004     0  5.367714  explosive\n",
       "1  q1    192  NYT20000131.0001     1  4.618058  explosive\n",
       "2  q1    441  NYT20000131.0259     2  3.783786  explosive\n",
       "3  q1    714  NYT20000131.0551     3  3.346567  explosive\n",
       "4  q1    145  NYT20000130.0162     4  3.204738  explosive\n",
       "5  q1    164  NYT20000130.0185     5  2.827687  explosive\n",
       "6  q1    104  NYT20000130.0119     6  2.804665  explosive\n",
       "7  q1     53  NYT20000130.0059     7  2.779521  explosive\n",
       "8  q1    351  NYT20000131.0166     8  2.687949  explosive\n",
       "9  q1    358  NYT20000131.0173     9  2.687949  explosive"
      ]
     },
     "execution_count": 24,
     "metadata": {},
     "output_type": "execute_result"
    }
   ],
   "source": [
    "index = pt.IndexFactory.of(\"c:/Users/Fortu/Downloads/Aut2024/Info 376/nyt_index/data.properties\")\n",
    "tf_idf = pt.BatchRetrieve(index, wmodel=\"TF_IDF\")\n",
    "\n",
    "print(\"data for TFIDF:\")\n",
    "tf_idf.transform(queries).head(10)"
   ]
  },
  {
   "cell_type": "code",
   "execution_count": 23,
   "metadata": {},
   "outputs": [
    {
     "name": "stderr",
     "output_type": "stream",
     "text": [
      "C:\\Users\\Fortu\\AppData\\Local\\Temp\\ipykernel_26680\\1840931414.py:1: DeprecationWarning: Call to deprecated class BatchRetrieve. (use pt.terrier.Retriever() instead) -- Deprecated since version 0.11.0.\n",
      "  bm25 = pt.BatchRetrieve(index, wmodel=\"BM25\")\n"
     ]
    },
    {
     "name": "stdout",
     "output_type": "stream",
     "text": [
      "data for BM25: \n"
     ]
    },
    {
     "data": {
      "text/html": [
       "<div>\n",
       "<style scoped>\n",
       "    .dataframe tbody tr th:only-of-type {\n",
       "        vertical-align: middle;\n",
       "    }\n",
       "\n",
       "    .dataframe tbody tr th {\n",
       "        vertical-align: top;\n",
       "    }\n",
       "\n",
       "    .dataframe thead th {\n",
       "        text-align: right;\n",
       "    }\n",
       "</style>\n",
       "<table border=\"1\" class=\"dataframe\">\n",
       "  <thead>\n",
       "    <tr style=\"text-align: right;\">\n",
       "      <th></th>\n",
       "      <th>qid</th>\n",
       "      <th>docid</th>\n",
       "      <th>docno</th>\n",
       "      <th>rank</th>\n",
       "      <th>score</th>\n",
       "      <th>query</th>\n",
       "    </tr>\n",
       "  </thead>\n",
       "  <tbody>\n",
       "    <tr>\n",
       "      <th>0</th>\n",
       "      <td>q1</td>\n",
       "      <td>195</td>\n",
       "      <td>NYT20000131.0004</td>\n",
       "      <td>0</td>\n",
       "      <td>9.548229</td>\n",
       "      <td>explosive</td>\n",
       "    </tr>\n",
       "    <tr>\n",
       "      <th>1</th>\n",
       "      <td>q1</td>\n",
       "      <td>192</td>\n",
       "      <td>NYT20000131.0001</td>\n",
       "      <td>1</td>\n",
       "      <td>8.214721</td>\n",
       "      <td>explosive</td>\n",
       "    </tr>\n",
       "    <tr>\n",
       "      <th>2</th>\n",
       "      <td>q1</td>\n",
       "      <td>441</td>\n",
       "      <td>NYT20000131.0259</td>\n",
       "      <td>2</td>\n",
       "      <td>6.730696</td>\n",
       "      <td>explosive</td>\n",
       "    </tr>\n",
       "    <tr>\n",
       "      <th>3</th>\n",
       "      <td>q1</td>\n",
       "      <td>714</td>\n",
       "      <td>NYT20000131.0551</td>\n",
       "      <td>3</td>\n",
       "      <td>5.952960</td>\n",
       "      <td>explosive</td>\n",
       "    </tr>\n",
       "    <tr>\n",
       "      <th>4</th>\n",
       "      <td>q1</td>\n",
       "      <td>145</td>\n",
       "      <td>NYT20000130.0162</td>\n",
       "      <td>4</td>\n",
       "      <td>5.700672</td>\n",
       "      <td>explosive</td>\n",
       "    </tr>\n",
       "    <tr>\n",
       "      <th>5</th>\n",
       "      <td>q1</td>\n",
       "      <td>164</td>\n",
       "      <td>NYT20000130.0185</td>\n",
       "      <td>5</td>\n",
       "      <td>5.029963</td>\n",
       "      <td>explosive</td>\n",
       "    </tr>\n",
       "    <tr>\n",
       "      <th>6</th>\n",
       "      <td>q1</td>\n",
       "      <td>104</td>\n",
       "      <td>NYT20000130.0119</td>\n",
       "      <td>6</td>\n",
       "      <td>4.989011</td>\n",
       "      <td>explosive</td>\n",
       "    </tr>\n",
       "    <tr>\n",
       "      <th>7</th>\n",
       "      <td>q1</td>\n",
       "      <td>53</td>\n",
       "      <td>NYT20000130.0059</td>\n",
       "      <td>7</td>\n",
       "      <td>4.944284</td>\n",
       "      <td>explosive</td>\n",
       "    </tr>\n",
       "    <tr>\n",
       "      <th>8</th>\n",
       "      <td>q1</td>\n",
       "      <td>351</td>\n",
       "      <td>NYT20000131.0166</td>\n",
       "      <td>8</td>\n",
       "      <td>4.781394</td>\n",
       "      <td>explosive</td>\n",
       "    </tr>\n",
       "    <tr>\n",
       "      <th>9</th>\n",
       "      <td>q1</td>\n",
       "      <td>358</td>\n",
       "      <td>NYT20000131.0173</td>\n",
       "      <td>9</td>\n",
       "      <td>4.781394</td>\n",
       "      <td>explosive</td>\n",
       "    </tr>\n",
       "  </tbody>\n",
       "</table>\n",
       "</div>"
      ],
      "text/plain": [
       "  qid  docid             docno  rank     score      query\n",
       "0  q1    195  NYT20000131.0004     0  9.548229  explosive\n",
       "1  q1    192  NYT20000131.0001     1  8.214721  explosive\n",
       "2  q1    441  NYT20000131.0259     2  6.730696  explosive\n",
       "3  q1    714  NYT20000131.0551     3  5.952960  explosive\n",
       "4  q1    145  NYT20000130.0162     4  5.700672  explosive\n",
       "5  q1    164  NYT20000130.0185     5  5.029963  explosive\n",
       "6  q1    104  NYT20000130.0119     6  4.989011  explosive\n",
       "7  q1     53  NYT20000130.0059     7  4.944284  explosive\n",
       "8  q1    351  NYT20000131.0166     8  4.781394  explosive\n",
       "9  q1    358  NYT20000131.0173     9  4.781394  explosive"
      ]
     },
     "execution_count": 23,
     "metadata": {},
     "output_type": "execute_result"
    }
   ],
   "source": [
    "bm25 = pt.BatchRetrieve(index, wmodel=\"BM25\")\n",
    "\n",
    "print(\"data for BM25: \")\n",
    "bm25.transform(queries).head(10)"
   ]
  },
  {
   "cell_type": "code",
   "execution_count": null,
   "metadata": {},
   "outputs": [],
   "source": []
  }
 ],
 "metadata": {
  "kernelspec": {
   "display_name": "Python 3",
   "language": "python",
   "name": "python3"
  },
  "language_info": {
   "codemirror_mode": {
    "name": "ipython",
    "version": 3
   },
   "file_extension": ".py",
   "mimetype": "text/x-python",
   "name": "python",
   "nbconvert_exporter": "python",
   "pygments_lexer": "ipython3",
   "version": "3.12.7"
  }
 },
 "nbformat": 4,
 "nbformat_minor": 2
}
