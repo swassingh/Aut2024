{
 "cells": [
  {
   "cell_type": "code",
   "execution_count": 3,
   "metadata": {},
   "outputs": [
    {
     "name": "stderr",
     "output_type": "stream",
     "text": [
      "C:\\Users\\Fortu\\AppData\\Local\\Temp\\ipykernel_31640\\3048555867.py:4: DeprecationWarning: Call to deprecated function (or staticmethod) started. (use pt.java.started() instead) -- Deprecated since version 0.11.0.\n",
      "  if not pt.started():\n"
     ]
    },
    {
     "name": "stdout",
     "output_type": "stream",
     "text": [
      "0.11.0\n"
     ]
    },
    {
     "name": "stderr",
     "output_type": "stream",
     "text": [
      "Java started and loaded: pyterrier.java, pyterrier.terrier.java [version=5.10 (build: craigm 2024-08-22 17:33), helper_version=0.0.8]\n",
      "C:\\Users\\Fortu\\AppData\\Local\\Temp\\ipykernel_31640\\3048555867.py:5: DeprecationWarning: Call to deprecated method pt.init(). Deprecated since version 0.11.0.\n",
      "java is now started automatically with default settings. To force initialisation early, run:\n",
      "pt.java.init() # optional, forces java initialisation\n",
      "  pt.init()\n"
     ]
    }
   ],
   "source": [
    "import os\n",
    "import pyterrier as pt\n",
    "\n",
    "if not pt.started():\n",
    "  pt.init()\n",
    "\n",
    "print(pt.__version__)"
   ]
  },
  {
   "cell_type": "code",
   "execution_count": 4,
   "metadata": {},
   "outputs": [],
   "source": [
    "import pandas as pd\n",
    "df = pd.DataFrame ({\n",
    "    'docno':\n",
    "    ['1','2','3'],\n",
    "    'url':\n",
    "    ['url1','url2','url3'],\n",
    "    'text':\n",
    "    ['All legislative Powers herein granted shall be vested in a Congress of the United States, which shall consist of a Senate and House of Representatives.',\n",
    "    'The House of Representatives shall be composed of Members chosen every second Year by the People of the several States, and the Electors in each State shall have the Qualifications requisite for Electors of the most numerous Branch of the State Legislature.',\n",
    "    'No Person shall be a Representative who shall not have attained to the Age of twenty five Years, and been seven Years a Citizen of the United States, and who shall not, when elected, be an Inhabitant of that State in which he shall be chosen.']\n",
    "})"
   ]
  },
  {
   "cell_type": "code",
   "execution_count": 5,
   "metadata": {},
   "outputs": [
    {
     "name": "stderr",
     "output_type": "stream",
     "text": [
      "C:\\Users\\Fortu\\AppData\\Local\\Temp\\ipykernel_31640\\978960464.py:6: DeprecationWarning: Call to deprecated class DFIndexer. (use pt.terrier.IterDictIndexer().index(dataframe.to_dict(orient='records')) instead) -- Deprecated since version 0.11.0.\n",
      "  df_indexer = pt.DFIndexer(index_dir)\n"
     ]
    }
   ],
   "source": [
    "# Ensure the directory exists\n",
    "index_dir = \"c:/Users/Fortu/Downloads/Aut2024/Info 376/./var/./df_indexers\"\n",
    "os.makedirs(index_dir, exist_ok=True)\n",
    "\n",
    "# Create the index\n",
    "df_indexer = pt.DFIndexer(index_dir)\n",
    "indexref = df_indexer.index(df[\"text\"], df[\"docno\"])"
   ]
  },
  {
   "cell_type": "code",
   "execution_count": null,
   "metadata": {},
   "outputs": [
    {
     "name": "stdout",
     "output_type": "stream",
     "text": [
      "Number of documents: 3\n",
      "Number of terms: 67\n",
      "Number of postings: 68\n",
      "Number of fields: 0\n",
      "Number of tokens: 76\n",
      "Field names: []\n",
      "Positions:   false\n",
      "\n"
     ]
    }
   ],
   "source": [
    "index = pt.IndexFactory.of(indexref)\n",
    "print(index.getCollectionStatistics().toString())"
   ]
  },
  {
   "cell_type": "code",
   "execution_count": 18,
   "metadata": {},
   "outputs": [
    {
     "data": {
      "text/plain": [
       "45"
      ]
     },
     "execution_count": 18,
     "metadata": {},
     "output_type": "execute_result"
    }
   ],
   "source": [
    "index.getCollectionStatistics().getNumberOfTokens()"
   ]
  },
  {
   "cell_type": "code",
   "execution_count": 19,
   "metadata": {},
   "outputs": [],
   "source": [
    "di = index.getDirectIndex()\n",
    "doi = index.getDocumentIndex()\n",
    "lex = index.getLexicon()"
   ]
  },
  {
   "cell_type": "code",
   "execution_count": 20,
   "metadata": {},
   "outputs": [
    {
     "name": "stdout",
     "output_type": "stream",
     "text": [
      "0: ag: 1\n",
      "1: attain: 1\n",
      "2: branch: 1\n",
      "3: chosen: 1\n",
      "4: citizen: 1\n",
      "5: compos: 1\n",
      "6: congress: 1\n",
      "7: consist: 1\n",
      "8: elect: 1\n",
      "9: elector: 1\n",
      "10: grant: 1\n"
     ]
    }
   ],
   "source": [
    "docid = 0\n",
    "for posting in di.getPostings(doi.getDocumentEntry(docid)):\n",
    "  termid = posting.getId()\n",
    "  term = lex.getIthLexiconEntry(termid)\n",
    "  print(\"%d: %s: %d\" % (termid,term.getKey(),posting.getFrequency()))"
   ]
  },
  {
   "cell_type": "code",
   "execution_count": 24,
   "metadata": {},
   "outputs": [
    {
     "name": "stdout",
     "output_type": "stream",
     "text": [
      "Number of documents: 6\n",
      "Number of terms: 13394\n",
      "Number of postings: 39724\n",
      "Number of fields: 0\n",
      "Number of tokens: 515683\n",
      "Field names: []\n",
      "Positions:   false\n",
      "\n"
     ]
    }
   ],
   "source": [
    "files = pt.io.find_files(\"./classics\")\n",
    "indexer = pt.FilesIndexer(\"c:/Users/Fortu/Downloads/Aut2024/Info 376/./fi_index\")\n",
    "indexref = indexer.index(files)\n",
    "index = pt.IndexFactory.of(indexref)\n",
    "print(index.getCollectionStatistics().toString())"
   ]
  },
  {
   "cell_type": "code",
   "execution_count": 25,
   "metadata": {},
   "outputs": [],
   "source": [
    "di = index.getDirectIndex()\n",
    "doi = index.getDocumentIndex()\n",
    "lex = index.getLexicon()"
   ]
  },
  {
   "cell_type": "code",
   "execution_count": 12,
   "metadata": {},
   "outputs": [
    {
     "name": "stdout",
     "output_type": "stream",
     "text": [
      "0: ag: 1\n",
      "4: citizen: 2\n",
      "8: elect: 1\n",
      "16: numer: 1\n",
      "22: requisit: 2\n",
      "23: second: 2\n",
      "24: senat: 1\n",
      "25: state: 1\n",
      "26: twenti: 1\n",
      "27: unit: 1\n",
      "28: vest: 1\n",
      "29: who: 1\n",
      "30: year: 1\n"
     ]
    }
   ],
   "source": [
    "docid = 2\n",
    "for posting in di.getPostings(doi.getDocumentEntry(docid)):\n",
    "  termid = posting.getId()\n",
    "  term = lex.getIthLexiconEntry(termid)\n",
    "  print(\"%d: %s: %d\" % (termid,term.getKey(),posting.getFrequency()))"
   ]
  },
  {
   "cell_type": "code",
   "execution_count": null,
   "metadata": {},
   "outputs": [],
   "source": []
  }
 ],
 "metadata": {
  "kernelspec": {
   "display_name": "Python 3",
   "language": "python",
   "name": "python3"
  },
  "language_info": {
   "codemirror_mode": {
    "name": "ipython",
    "version": 3
   },
   "file_extension": ".py",
   "mimetype": "text/x-python",
   "name": "python",
   "nbconvert_exporter": "python",
   "pygments_lexer": "ipython3",
   "version": "3.12.7"
  }
 },
 "nbformat": 4,
 "nbformat_minor": 2
}
